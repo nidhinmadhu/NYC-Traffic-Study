{
  "nbformat": 4,
  "nbformat_minor": 0,
  "metadata": {
    "colab": {
      "name": "testing for regression cogs108 final.ipynb",
      "provenance": [],
      "collapsed_sections": []
    },
    "kernelspec": {
      "name": "python3",
      "display_name": "Python 3"
    }
  },
  "cells": [
    {
      "cell_type": "code",
      "metadata": {
        "colab": {
          "base_uri": "https://localhost:8080/"
        },
        "id": "pluUYTFH7Bin",
        "outputId": "b7e87b55-0572-4547-f569-8e46bf90926a"
      },
      "source": [
        "#numpy and pandas\n",
        "import numpy as np\n",
        "import pandas as pd\n",
        "\n",
        "#for plotting\n",
        "import matplotlib.pyplot as plt\n",
        "import seaborn as sns\n",
        "\n",
        "#size of figures\n",
        "plt.rcParams['figure.figsize'] = (17, 7)\n",
        "\n",
        "# Statmodels & patsy\n",
        "import patsy\n",
        "import statsmodels.api as sm"
      ],
      "execution_count": null,
      "outputs": [
        {
          "output_type": "stream",
          "text": [
            "/usr/local/lib/python3.6/dist-packages/statsmodels/tools/_testing.py:19: FutureWarning: pandas.util.testing is deprecated. Use the functions in the public API at pandas.testing instead.\n",
            "  import pandas.util.testing as tm\n"
          ],
          "name": "stderr"
        }
      ]
    },
    {
      "cell_type": "markdown",
      "metadata": {
        "id": "t1L9HkAa_4On"
      },
      "source": [
        "# DATA CLEANING\n"
      ]
    },
    {
      "cell_type": "code",
      "metadata": {
        "id": "Y6F28-i7-OoO"
      },
      "source": [
        "def standardize_cases_date(date):\n",
        "  \"\"\"\n",
        "  Returns a reformated date that is separated with dashes(-) insteand of (/)\n",
        "  Input: MM/DD/YEAR\n",
        "  Output format: MM-DD-YEAR\n",
        "  To be used on COVID CASES DATASET\n",
        "  \"\"\"\n",
        "  split_date = date.split(\"/\")\n",
        "  new_date = \"-\".join(split_date)\n",
        "  return new_date"
      ],
      "execution_count": null,
      "outputs": []
    },
    {
      "cell_type": "code",
      "metadata": {
        "id": "MUkZSCTU_2EF"
      },
      "source": [
        "def standardize_crashes_date(date):\n",
        "  \"\"\"\n",
        "  Returns reformated date to match the other dataset\n",
        "  Input: YEAR-MM-DD\n",
        "  Output format: MM-DD-YEAR\n",
        "  To be used to NYC CRASHES DATASET\n",
        "  \"\"\"\n",
        "  split_date = date.split(\"-\")\n",
        "  year = split_date[0]\n",
        "  month = split_date[1]\n",
        "  day = split_date[2]\n",
        "  new_date = [month, day, year]\n",
        "  return \"-\".join(new_date)\n"
      ],
      "execution_count": null,
      "outputs": []
    },
    {
      "cell_type": "markdown",
      "metadata": {
        "id": "hlXSfG0o8Xkg"
      },
      "source": [
        "# COVID CASES IN NYC DATASET\n"
      ]
    },
    {
      "cell_type": "code",
      "metadata": {
        "id": "JgLu9QSh7G7T"
      },
      "source": [
        "df_cases = pd.read_csv(\"https://raw.githubusercontent.com/nychealth/coronavirus-data/master/trends/data-by-day.csv\")"
      ],
      "execution_count": null,
      "outputs": []
    },
    {
      "cell_type": "code",
      "metadata": {
        "colab": {
          "base_uri": "https://localhost:8080/",
          "height": 224
        },
        "id": "pv3xA-qK7bou",
        "outputId": "0679dcac-a1c8-48b9-9d34-906f3fc2d4b4"
      },
      "source": [
        "#what it looks like\n",
        "df_cases.head()"
      ],
      "execution_count": null,
      "outputs": [
        {
          "output_type": "execute_result",
          "data": {
            "text/html": [
              "<div>\n",
              "<style scoped>\n",
              "    .dataframe tbody tr th:only-of-type {\n",
              "        vertical-align: middle;\n",
              "    }\n",
              "\n",
              "    .dataframe tbody tr th {\n",
              "        vertical-align: top;\n",
              "    }\n",
              "\n",
              "    .dataframe thead th {\n",
              "        text-align: right;\n",
              "    }\n",
              "</style>\n",
              "<table border=\"1\" class=\"dataframe\">\n",
              "  <thead>\n",
              "    <tr style=\"text-align: right;\">\n",
              "      <th></th>\n",
              "      <th>date_of_interest</th>\n",
              "      <th>CASE_COUNT</th>\n",
              "      <th>PROBABLE_CASE_COUNT</th>\n",
              "      <th>HOSPITALIZED_COUNT</th>\n",
              "      <th>DEATH_COUNT</th>\n",
              "      <th>PROBABLE_DEATH_COUNT</th>\n",
              "      <th>CASE_COUNT_7DAY_AVG</th>\n",
              "      <th>ALL_CASE_COUNT_7DAY_AVG</th>\n",
              "      <th>HOSP_COUNT_7DAY_AVG</th>\n",
              "      <th>DEATH_COUNT_7DAY_AVG</th>\n",
              "      <th>ALL_DEATH_COUNT_7DAY_AVG</th>\n",
              "      <th>BX_CASE_COUNT</th>\n",
              "      <th>BX_HOSPITALIZED_COUNT</th>\n",
              "      <th>BX_DEATH_COUNT</th>\n",
              "      <th>BX_CASE_COUNT_7DAY_AVG</th>\n",
              "      <th>BX_HOSPITALIZED_COUNT_7DAY_AVG</th>\n",
              "      <th>BX_DEATH_COUNT_7DAY_AVG</th>\n",
              "      <th>BK_CASE_COUNT</th>\n",
              "      <th>BK_HOSPITALIZED_COUNT</th>\n",
              "      <th>BK_DEATH_COUNT</th>\n",
              "      <th>BK_CASE_COUNT_7DAY_AVG</th>\n",
              "      <th>BK_HOSPITALIZED_COUNT_7DAY_AVG</th>\n",
              "      <th>BK_DEATH_COUNT_7DAY_AVG</th>\n",
              "      <th>MN_CASE_COUNT</th>\n",
              "      <th>MN_HOSPITALIZED_COUNT</th>\n",
              "      <th>MN_DEATH_COUNT</th>\n",
              "      <th>MN_CASE_COUNT_7DAY_AVG</th>\n",
              "      <th>MN_HOSPITALIZED_COUNT_7DAY_AVG</th>\n",
              "      <th>MN_DEATH_COUNT_7DAY_AVG</th>\n",
              "      <th>QN_CASE_COUNT</th>\n",
              "      <th>QN_HOSPITALIZED_COUNT</th>\n",
              "      <th>QN_DEATH_COUNT</th>\n",
              "      <th>QN_CASE_COUNT_7DAY_AVG</th>\n",
              "      <th>QN_HOSPITALIZED_COUNT_7DAY_AVG</th>\n",
              "      <th>QN_DEATH_COUNT_7DAY_AVG</th>\n",
              "      <th>SI_CASE_COUNT</th>\n",
              "      <th>SI_HOSPITALIZED_COUNT</th>\n",
              "      <th>SI_DEATH_COUNT</th>\n",
              "      <th>SI_CASE_COUNT_7DAY_AVG</th>\n",
              "      <th>SI_HOSPITALIZED_COUNT_7DAY_AVG</th>\n",
              "      <th>SI_DEATH_COUNT_7DAY_AVG</th>\n",
              "      <th>INCOMPLETE</th>\n",
              "    </tr>\n",
              "  </thead>\n",
              "  <tbody>\n",
              "    <tr>\n",
              "      <th>0</th>\n",
              "      <td>02/29/2020</td>\n",
              "      <td>1</td>\n",
              "      <td>0</td>\n",
              "      <td>0</td>\n",
              "      <td>0</td>\n",
              "      <td>0</td>\n",
              "      <td>0</td>\n",
              "      <td>0</td>\n",
              "      <td>0</td>\n",
              "      <td>0</td>\n",
              "      <td>0</td>\n",
              "      <td>0</td>\n",
              "      <td>0</td>\n",
              "      <td>0</td>\n",
              "      <td>0</td>\n",
              "      <td>0</td>\n",
              "      <td>0</td>\n",
              "      <td>0</td>\n",
              "      <td>0</td>\n",
              "      <td>0</td>\n",
              "      <td>0</td>\n",
              "      <td>0</td>\n",
              "      <td>0</td>\n",
              "      <td>1</td>\n",
              "      <td>0</td>\n",
              "      <td>0</td>\n",
              "      <td>0</td>\n",
              "      <td>0</td>\n",
              "      <td>0</td>\n",
              "      <td>0</td>\n",
              "      <td>0</td>\n",
              "      <td>0</td>\n",
              "      <td>0</td>\n",
              "      <td>0</td>\n",
              "      <td>0</td>\n",
              "      <td>0</td>\n",
              "      <td>0</td>\n",
              "      <td>0</td>\n",
              "      <td>0</td>\n",
              "      <td>0</td>\n",
              "      <td>0</td>\n",
              "      <td>0</td>\n",
              "    </tr>\n",
              "    <tr>\n",
              "      <th>1</th>\n",
              "      <td>03/01/2020</td>\n",
              "      <td>0</td>\n",
              "      <td>0</td>\n",
              "      <td>0</td>\n",
              "      <td>0</td>\n",
              "      <td>0</td>\n",
              "      <td>0</td>\n",
              "      <td>0</td>\n",
              "      <td>0</td>\n",
              "      <td>0</td>\n",
              "      <td>0</td>\n",
              "      <td>0</td>\n",
              "      <td>0</td>\n",
              "      <td>0</td>\n",
              "      <td>0</td>\n",
              "      <td>0</td>\n",
              "      <td>0</td>\n",
              "      <td>0</td>\n",
              "      <td>0</td>\n",
              "      <td>0</td>\n",
              "      <td>0</td>\n",
              "      <td>0</td>\n",
              "      <td>0</td>\n",
              "      <td>0</td>\n",
              "      <td>0</td>\n",
              "      <td>0</td>\n",
              "      <td>0</td>\n",
              "      <td>0</td>\n",
              "      <td>0</td>\n",
              "      <td>0</td>\n",
              "      <td>0</td>\n",
              "      <td>0</td>\n",
              "      <td>0</td>\n",
              "      <td>0</td>\n",
              "      <td>0</td>\n",
              "      <td>0</td>\n",
              "      <td>0</td>\n",
              "      <td>0</td>\n",
              "      <td>0</td>\n",
              "      <td>0</td>\n",
              "      <td>0</td>\n",
              "      <td>0</td>\n",
              "    </tr>\n",
              "    <tr>\n",
              "      <th>2</th>\n",
              "      <td>03/02/2020</td>\n",
              "      <td>0</td>\n",
              "      <td>0</td>\n",
              "      <td>0</td>\n",
              "      <td>0</td>\n",
              "      <td>0</td>\n",
              "      <td>0</td>\n",
              "      <td>0</td>\n",
              "      <td>0</td>\n",
              "      <td>0</td>\n",
              "      <td>0</td>\n",
              "      <td>0</td>\n",
              "      <td>0</td>\n",
              "      <td>0</td>\n",
              "      <td>0</td>\n",
              "      <td>0</td>\n",
              "      <td>0</td>\n",
              "      <td>0</td>\n",
              "      <td>0</td>\n",
              "      <td>0</td>\n",
              "      <td>0</td>\n",
              "      <td>0</td>\n",
              "      <td>0</td>\n",
              "      <td>0</td>\n",
              "      <td>0</td>\n",
              "      <td>0</td>\n",
              "      <td>0</td>\n",
              "      <td>0</td>\n",
              "      <td>0</td>\n",
              "      <td>0</td>\n",
              "      <td>0</td>\n",
              "      <td>0</td>\n",
              "      <td>0</td>\n",
              "      <td>0</td>\n",
              "      <td>0</td>\n",
              "      <td>0</td>\n",
              "      <td>0</td>\n",
              "      <td>0</td>\n",
              "      <td>0</td>\n",
              "      <td>0</td>\n",
              "      <td>0</td>\n",
              "      <td>0</td>\n",
              "    </tr>\n",
              "    <tr>\n",
              "      <th>3</th>\n",
              "      <td>03/03/2020</td>\n",
              "      <td>1</td>\n",
              "      <td>0</td>\n",
              "      <td>1</td>\n",
              "      <td>0</td>\n",
              "      <td>0</td>\n",
              "      <td>0</td>\n",
              "      <td>0</td>\n",
              "      <td>0</td>\n",
              "      <td>0</td>\n",
              "      <td>0</td>\n",
              "      <td>0</td>\n",
              "      <td>0</td>\n",
              "      <td>0</td>\n",
              "      <td>0</td>\n",
              "      <td>0</td>\n",
              "      <td>0</td>\n",
              "      <td>0</td>\n",
              "      <td>0</td>\n",
              "      <td>0</td>\n",
              "      <td>0</td>\n",
              "      <td>0</td>\n",
              "      <td>0</td>\n",
              "      <td>0</td>\n",
              "      <td>0</td>\n",
              "      <td>0</td>\n",
              "      <td>0</td>\n",
              "      <td>0</td>\n",
              "      <td>0</td>\n",
              "      <td>1</td>\n",
              "      <td>1</td>\n",
              "      <td>0</td>\n",
              "      <td>0</td>\n",
              "      <td>0</td>\n",
              "      <td>0</td>\n",
              "      <td>0</td>\n",
              "      <td>0</td>\n",
              "      <td>0</td>\n",
              "      <td>0</td>\n",
              "      <td>0</td>\n",
              "      <td>0</td>\n",
              "      <td>0</td>\n",
              "    </tr>\n",
              "    <tr>\n",
              "      <th>4</th>\n",
              "      <td>03/04/2020</td>\n",
              "      <td>5</td>\n",
              "      <td>0</td>\n",
              "      <td>2</td>\n",
              "      <td>0</td>\n",
              "      <td>0</td>\n",
              "      <td>0</td>\n",
              "      <td>0</td>\n",
              "      <td>0</td>\n",
              "      <td>0</td>\n",
              "      <td>0</td>\n",
              "      <td>0</td>\n",
              "      <td>0</td>\n",
              "      <td>0</td>\n",
              "      <td>0</td>\n",
              "      <td>0</td>\n",
              "      <td>0</td>\n",
              "      <td>1</td>\n",
              "      <td>1</td>\n",
              "      <td>0</td>\n",
              "      <td>0</td>\n",
              "      <td>0</td>\n",
              "      <td>0</td>\n",
              "      <td>2</td>\n",
              "      <td>1</td>\n",
              "      <td>0</td>\n",
              "      <td>0</td>\n",
              "      <td>0</td>\n",
              "      <td>0</td>\n",
              "      <td>2</td>\n",
              "      <td>0</td>\n",
              "      <td>0</td>\n",
              "      <td>0</td>\n",
              "      <td>0</td>\n",
              "      <td>0</td>\n",
              "      <td>0</td>\n",
              "      <td>0</td>\n",
              "      <td>0</td>\n",
              "      <td>0</td>\n",
              "      <td>0</td>\n",
              "      <td>0</td>\n",
              "      <td>0</td>\n",
              "    </tr>\n",
              "  </tbody>\n",
              "</table>\n",
              "</div>"
            ],
            "text/plain": [
              "  date_of_interest  CASE_COUNT  ...  SI_DEATH_COUNT_7DAY_AVG  INCOMPLETE\n",
              "0       02/29/2020           1  ...                        0           0\n",
              "1       03/01/2020           0  ...                        0           0\n",
              "2       03/02/2020           0  ...                        0           0\n",
              "3       03/03/2020           1  ...                        0           0\n",
              "4       03/04/2020           5  ...                        0           0\n",
              "\n",
              "[5 rows x 42 columns]"
            ]
          },
          "metadata": {
            "tags": []
          },
          "execution_count": 37
        }
      ]
    },
    {
      "cell_type": "code",
      "metadata": {
        "colab": {
          "base_uri": "https://localhost:8080/",
          "height": 204
        },
        "id": "RYAi66yU7inf",
        "outputId": "e8bd5aab-2c79-46c2-92e5-c560ba2d1872"
      },
      "source": [
        "#only keeping the date column and cases count for that day, everything else removed\n",
        "df_cases = df_cases.loc[:, ['date_of_interest', 'CASE_COUNT']]\n",
        "df_cases.head()"
      ],
      "execution_count": null,
      "outputs": [
        {
          "output_type": "execute_result",
          "data": {
            "text/html": [
              "<div>\n",
              "<style scoped>\n",
              "    .dataframe tbody tr th:only-of-type {\n",
              "        vertical-align: middle;\n",
              "    }\n",
              "\n",
              "    .dataframe tbody tr th {\n",
              "        vertical-align: top;\n",
              "    }\n",
              "\n",
              "    .dataframe thead th {\n",
              "        text-align: right;\n",
              "    }\n",
              "</style>\n",
              "<table border=\"1\" class=\"dataframe\">\n",
              "  <thead>\n",
              "    <tr style=\"text-align: right;\">\n",
              "      <th></th>\n",
              "      <th>date_of_interest</th>\n",
              "      <th>CASE_COUNT</th>\n",
              "    </tr>\n",
              "  </thead>\n",
              "  <tbody>\n",
              "    <tr>\n",
              "      <th>0</th>\n",
              "      <td>02/29/2020</td>\n",
              "      <td>1</td>\n",
              "    </tr>\n",
              "    <tr>\n",
              "      <th>1</th>\n",
              "      <td>03/01/2020</td>\n",
              "      <td>0</td>\n",
              "    </tr>\n",
              "    <tr>\n",
              "      <th>2</th>\n",
              "      <td>03/02/2020</td>\n",
              "      <td>0</td>\n",
              "    </tr>\n",
              "    <tr>\n",
              "      <th>3</th>\n",
              "      <td>03/03/2020</td>\n",
              "      <td>1</td>\n",
              "    </tr>\n",
              "    <tr>\n",
              "      <th>4</th>\n",
              "      <td>03/04/2020</td>\n",
              "      <td>5</td>\n",
              "    </tr>\n",
              "  </tbody>\n",
              "</table>\n",
              "</div>"
            ],
            "text/plain": [
              "  date_of_interest  CASE_COUNT\n",
              "0       02/29/2020           1\n",
              "1       03/01/2020           0\n",
              "2       03/02/2020           0\n",
              "3       03/03/2020           1\n",
              "4       03/04/2020           5"
            ]
          },
          "metadata": {
            "tags": []
          },
          "execution_count": 38
        }
      ]
    },
    {
      "cell_type": "code",
      "metadata": {
        "colab": {
          "base_uri": "https://localhost:8080/",
          "height": 204
        },
        "id": "I0MboO1R7xpG",
        "outputId": "1b667364-244a-4a8a-c2c5-bf8479dee635"
      },
      "source": [
        "#renaming columnns\n",
        "df_cases.rename(columns={'date_of_interest':'date', 'CASE_COUNT':'case_count',},inplace=True) \n",
        "df_cases.head()"
      ],
      "execution_count": null,
      "outputs": [
        {
          "output_type": "execute_result",
          "data": {
            "text/html": [
              "<div>\n",
              "<style scoped>\n",
              "    .dataframe tbody tr th:only-of-type {\n",
              "        vertical-align: middle;\n",
              "    }\n",
              "\n",
              "    .dataframe tbody tr th {\n",
              "        vertical-align: top;\n",
              "    }\n",
              "\n",
              "    .dataframe thead th {\n",
              "        text-align: right;\n",
              "    }\n",
              "</style>\n",
              "<table border=\"1\" class=\"dataframe\">\n",
              "  <thead>\n",
              "    <tr style=\"text-align: right;\">\n",
              "      <th></th>\n",
              "      <th>date</th>\n",
              "      <th>case_count</th>\n",
              "    </tr>\n",
              "  </thead>\n",
              "  <tbody>\n",
              "    <tr>\n",
              "      <th>0</th>\n",
              "      <td>02/29/2020</td>\n",
              "      <td>1</td>\n",
              "    </tr>\n",
              "    <tr>\n",
              "      <th>1</th>\n",
              "      <td>03/01/2020</td>\n",
              "      <td>0</td>\n",
              "    </tr>\n",
              "    <tr>\n",
              "      <th>2</th>\n",
              "      <td>03/02/2020</td>\n",
              "      <td>0</td>\n",
              "    </tr>\n",
              "    <tr>\n",
              "      <th>3</th>\n",
              "      <td>03/03/2020</td>\n",
              "      <td>1</td>\n",
              "    </tr>\n",
              "    <tr>\n",
              "      <th>4</th>\n",
              "      <td>03/04/2020</td>\n",
              "      <td>5</td>\n",
              "    </tr>\n",
              "  </tbody>\n",
              "</table>\n",
              "</div>"
            ],
            "text/plain": [
              "         date  case_count\n",
              "0  02/29/2020           1\n",
              "1  03/01/2020           0\n",
              "2  03/02/2020           0\n",
              "3  03/03/2020           1\n",
              "4  03/04/2020           5"
            ]
          },
          "metadata": {
            "tags": []
          },
          "execution_count": 39
        }
      ]
    },
    {
      "cell_type": "code",
      "metadata": {
        "colab": {
          "base_uri": "https://localhost:8080/",
          "height": 419
        },
        "id": "DDQKKfKzFDZw",
        "outputId": "761ea18d-d6da-4c27-9942-ac2d9f455eb3"
      },
      "source": [
        "df_cases['date'] = df_cases['date'].apply(standardize_cases_date)\n",
        "df_cases"
      ],
      "execution_count": null,
      "outputs": [
        {
          "output_type": "execute_result",
          "data": {
            "text/html": [
              "<div>\n",
              "<style scoped>\n",
              "    .dataframe tbody tr th:only-of-type {\n",
              "        vertical-align: middle;\n",
              "    }\n",
              "\n",
              "    .dataframe tbody tr th {\n",
              "        vertical-align: top;\n",
              "    }\n",
              "\n",
              "    .dataframe thead th {\n",
              "        text-align: right;\n",
              "    }\n",
              "</style>\n",
              "<table border=\"1\" class=\"dataframe\">\n",
              "  <thead>\n",
              "    <tr style=\"text-align: right;\">\n",
              "      <th></th>\n",
              "      <th>date</th>\n",
              "      <th>case_count</th>\n",
              "    </tr>\n",
              "  </thead>\n",
              "  <tbody>\n",
              "    <tr>\n",
              "      <th>0</th>\n",
              "      <td>02-29-2020</td>\n",
              "      <td>1</td>\n",
              "    </tr>\n",
              "    <tr>\n",
              "      <th>1</th>\n",
              "      <td>03-01-2020</td>\n",
              "      <td>0</td>\n",
              "    </tr>\n",
              "    <tr>\n",
              "      <th>2</th>\n",
              "      <td>03-02-2020</td>\n",
              "      <td>0</td>\n",
              "    </tr>\n",
              "    <tr>\n",
              "      <th>3</th>\n",
              "      <td>03-03-2020</td>\n",
              "      <td>1</td>\n",
              "    </tr>\n",
              "    <tr>\n",
              "      <th>4</th>\n",
              "      <td>03-04-2020</td>\n",
              "      <td>5</td>\n",
              "    </tr>\n",
              "    <tr>\n",
              "      <th>...</th>\n",
              "      <td>...</td>\n",
              "      <td>...</td>\n",
              "    </tr>\n",
              "    <tr>\n",
              "      <th>282</th>\n",
              "      <td>12-07-2020</td>\n",
              "      <td>3101</td>\n",
              "    </tr>\n",
              "    <tr>\n",
              "      <th>283</th>\n",
              "      <td>12-08-2020</td>\n",
              "      <td>2778</td>\n",
              "    </tr>\n",
              "    <tr>\n",
              "      <th>284</th>\n",
              "      <td>12-09-2020</td>\n",
              "      <td>2450</td>\n",
              "    </tr>\n",
              "    <tr>\n",
              "      <th>285</th>\n",
              "      <td>12-10-2020</td>\n",
              "      <td>1788</td>\n",
              "    </tr>\n",
              "    <tr>\n",
              "      <th>286</th>\n",
              "      <td>12-11-2020</td>\n",
              "      <td>1167</td>\n",
              "    </tr>\n",
              "  </tbody>\n",
              "</table>\n",
              "<p>287 rows × 2 columns</p>\n",
              "</div>"
            ],
            "text/plain": [
              "           date  case_count\n",
              "0    02-29-2020           1\n",
              "1    03-01-2020           0\n",
              "2    03-02-2020           0\n",
              "3    03-03-2020           1\n",
              "4    03-04-2020           5\n",
              "..          ...         ...\n",
              "282  12-07-2020        3101\n",
              "283  12-08-2020        2778\n",
              "284  12-09-2020        2450\n",
              "285  12-10-2020        1788\n",
              "286  12-11-2020        1167\n",
              "\n",
              "[287 rows x 2 columns]"
            ]
          },
          "metadata": {
            "tags": []
          },
          "execution_count": 40
        }
      ]
    },
    {
      "cell_type": "markdown",
      "metadata": {
        "id": "5ntMxV3H8u-Z"
      },
      "source": [
        "# NYC TRAFFIC COLLISIONS DATASET"
      ]
    },
    {
      "cell_type": "code",
      "metadata": {
        "id": "EzOG2jqh8EXq"
      },
      "source": [
        "df_crashes = pd.read_csv(\"NYC Accidents 2020.csv\")"
      ],
      "execution_count": null,
      "outputs": []
    },
    {
      "cell_type": "code",
      "metadata": {
        "colab": {
          "base_uri": "https://localhost:8080/",
          "height": 496
        },
        "id": "D5xwikFe947s",
        "outputId": "c4a5d3c3-8564-4558-c162-f168f56007fb"
      },
      "source": [
        "df_crashes.head()"
      ],
      "execution_count": null,
      "outputs": [
        {
          "output_type": "execute_result",
          "data": {
            "text/html": [
              "<div>\n",
              "<style scoped>\n",
              "    .dataframe tbody tr th:only-of-type {\n",
              "        vertical-align: middle;\n",
              "    }\n",
              "\n",
              "    .dataframe tbody tr th {\n",
              "        vertical-align: top;\n",
              "    }\n",
              "\n",
              "    .dataframe thead th {\n",
              "        text-align: right;\n",
              "    }\n",
              "</style>\n",
              "<table border=\"1\" class=\"dataframe\">\n",
              "  <thead>\n",
              "    <tr style=\"text-align: right;\">\n",
              "      <th></th>\n",
              "      <th>CRASH DATE</th>\n",
              "      <th>CRASH TIME</th>\n",
              "      <th>BOROUGH</th>\n",
              "      <th>ZIP CODE</th>\n",
              "      <th>LATITUDE</th>\n",
              "      <th>LONGITUDE</th>\n",
              "      <th>LOCATION</th>\n",
              "      <th>ON STREET NAME</th>\n",
              "      <th>CROSS STREET NAME</th>\n",
              "      <th>OFF STREET NAME</th>\n",
              "      <th>NUMBER OF PERSONS INJURED</th>\n",
              "      <th>NUMBER OF PERSONS KILLED</th>\n",
              "      <th>NUMBER OF PEDESTRIANS INJURED</th>\n",
              "      <th>NUMBER OF PEDESTRIANS KILLED</th>\n",
              "      <th>NUMBER OF CYCLIST INJURED</th>\n",
              "      <th>NUMBER OF CYCLIST KILLED</th>\n",
              "      <th>NUMBER OF MOTORIST INJURED</th>\n",
              "      <th>NUMBER OF MOTORIST KILLED</th>\n",
              "      <th>CONTRIBUTING FACTOR VEHICLE 1</th>\n",
              "      <th>CONTRIBUTING FACTOR VEHICLE 2</th>\n",
              "      <th>CONTRIBUTING FACTOR VEHICLE 3</th>\n",
              "      <th>CONTRIBUTING FACTOR VEHICLE 4</th>\n",
              "      <th>CONTRIBUTING FACTOR VEHICLE 5</th>\n",
              "      <th>COLLISION_ID</th>\n",
              "      <th>VEHICLE TYPE CODE 1</th>\n",
              "      <th>VEHICLE TYPE CODE 2</th>\n",
              "      <th>VEHICLE TYPE CODE 3</th>\n",
              "      <th>VEHICLE TYPE CODE 4</th>\n",
              "      <th>VEHICLE TYPE CODE 5</th>\n",
              "    </tr>\n",
              "  </thead>\n",
              "  <tbody>\n",
              "    <tr>\n",
              "      <th>0</th>\n",
              "      <td>2020-08-29</td>\n",
              "      <td>15:40:00</td>\n",
              "      <td>BRONX</td>\n",
              "      <td>10466.0</td>\n",
              "      <td>40.89210</td>\n",
              "      <td>-73.833760</td>\n",
              "      <td>POINT (-73.83376 40.8921)</td>\n",
              "      <td>PRATT AVENUE</td>\n",
              "      <td>STRANG AVENUE</td>\n",
              "      <td>NaN</td>\n",
              "      <td>0</td>\n",
              "      <td>0</td>\n",
              "      <td>0</td>\n",
              "      <td>0</td>\n",
              "      <td>0</td>\n",
              "      <td>0</td>\n",
              "      <td>0</td>\n",
              "      <td>0</td>\n",
              "      <td>Passing Too Closely</td>\n",
              "      <td>Unspecified</td>\n",
              "      <td>NaN</td>\n",
              "      <td>NaN</td>\n",
              "      <td>NaN</td>\n",
              "      <td>4342908</td>\n",
              "      <td>Sedan</td>\n",
              "      <td>Station Wagon/Sport Utility Vehicle</td>\n",
              "      <td>NaN</td>\n",
              "      <td>NaN</td>\n",
              "      <td>NaN</td>\n",
              "    </tr>\n",
              "    <tr>\n",
              "      <th>1</th>\n",
              "      <td>2020-08-29</td>\n",
              "      <td>21:00:00</td>\n",
              "      <td>BROOKLYN</td>\n",
              "      <td>11221.0</td>\n",
              "      <td>40.69050</td>\n",
              "      <td>-73.919914</td>\n",
              "      <td>POINT (-73.919914 40.6905)</td>\n",
              "      <td>BUSHWICK AVENUE</td>\n",
              "      <td>PALMETTO STREET</td>\n",
              "      <td>NaN</td>\n",
              "      <td>2</td>\n",
              "      <td>0</td>\n",
              "      <td>0</td>\n",
              "      <td>0</td>\n",
              "      <td>0</td>\n",
              "      <td>0</td>\n",
              "      <td>2</td>\n",
              "      <td>0</td>\n",
              "      <td>Reaction to Uninvolved Vehicle</td>\n",
              "      <td>Unspecified</td>\n",
              "      <td>NaN</td>\n",
              "      <td>NaN</td>\n",
              "      <td>NaN</td>\n",
              "      <td>4343555</td>\n",
              "      <td>Sedan</td>\n",
              "      <td>Sedan</td>\n",
              "      <td>NaN</td>\n",
              "      <td>NaN</td>\n",
              "      <td>NaN</td>\n",
              "    </tr>\n",
              "    <tr>\n",
              "      <th>2</th>\n",
              "      <td>2020-08-29</td>\n",
              "      <td>18:20:00</td>\n",
              "      <td>NaN</td>\n",
              "      <td>NaN</td>\n",
              "      <td>40.81650</td>\n",
              "      <td>-73.946556</td>\n",
              "      <td>POINT (-73.946556 40.8165)</td>\n",
              "      <td>8 AVENUE</td>\n",
              "      <td>NaN</td>\n",
              "      <td>NaN</td>\n",
              "      <td>1</td>\n",
              "      <td>0</td>\n",
              "      <td>1</td>\n",
              "      <td>0</td>\n",
              "      <td>0</td>\n",
              "      <td>0</td>\n",
              "      <td>0</td>\n",
              "      <td>0</td>\n",
              "      <td>Backing Unsafely</td>\n",
              "      <td>NaN</td>\n",
              "      <td>NaN</td>\n",
              "      <td>NaN</td>\n",
              "      <td>NaN</td>\n",
              "      <td>4343142</td>\n",
              "      <td>Station Wagon/Sport Utility Vehicle</td>\n",
              "      <td>NaN</td>\n",
              "      <td>NaN</td>\n",
              "      <td>NaN</td>\n",
              "      <td>NaN</td>\n",
              "    </tr>\n",
              "    <tr>\n",
              "      <th>3</th>\n",
              "      <td>2020-08-29</td>\n",
              "      <td>00:00:00</td>\n",
              "      <td>BRONX</td>\n",
              "      <td>10459.0</td>\n",
              "      <td>40.82472</td>\n",
              "      <td>-73.892960</td>\n",
              "      <td>POINT (-73.89296 40.82472)</td>\n",
              "      <td>NaN</td>\n",
              "      <td>NaN</td>\n",
              "      <td>1047 SIMPSON STREET</td>\n",
              "      <td>0</td>\n",
              "      <td>0</td>\n",
              "      <td>0</td>\n",
              "      <td>0</td>\n",
              "      <td>0</td>\n",
              "      <td>0</td>\n",
              "      <td>0</td>\n",
              "      <td>0</td>\n",
              "      <td>Unsafe Speed</td>\n",
              "      <td>Unspecified</td>\n",
              "      <td>Unspecified</td>\n",
              "      <td>Unspecified</td>\n",
              "      <td>NaN</td>\n",
              "      <td>4343588</td>\n",
              "      <td>Station Wagon/Sport Utility Vehicle</td>\n",
              "      <td>Station Wagon/Sport Utility Vehicle</td>\n",
              "      <td>Sedan</td>\n",
              "      <td>Motorcycle</td>\n",
              "      <td>NaN</td>\n",
              "    </tr>\n",
              "    <tr>\n",
              "      <th>4</th>\n",
              "      <td>2020-08-29</td>\n",
              "      <td>17:10:00</td>\n",
              "      <td>BROOKLYN</td>\n",
              "      <td>11203.0</td>\n",
              "      <td>40.64989</td>\n",
              "      <td>-73.933890</td>\n",
              "      <td>POINT (-73.93389 40.64989)</td>\n",
              "      <td>NaN</td>\n",
              "      <td>NaN</td>\n",
              "      <td>4609 SNYDER AVENUE</td>\n",
              "      <td>0</td>\n",
              "      <td>0</td>\n",
              "      <td>0</td>\n",
              "      <td>0</td>\n",
              "      <td>0</td>\n",
              "      <td>0</td>\n",
              "      <td>0</td>\n",
              "      <td>0</td>\n",
              "      <td>Failure to Yield Right-of-Way</td>\n",
              "      <td>Unspecified</td>\n",
              "      <td>NaN</td>\n",
              "      <td>NaN</td>\n",
              "      <td>NaN</td>\n",
              "      <td>4342953</td>\n",
              "      <td>Sedan</td>\n",
              "      <td>Sedan</td>\n",
              "      <td>NaN</td>\n",
              "      <td>NaN</td>\n",
              "      <td>NaN</td>\n",
              "    </tr>\n",
              "  </tbody>\n",
              "</table>\n",
              "</div>"
            ],
            "text/plain": [
              "   CRASH DATE CRASH TIME  ... VEHICLE TYPE CODE 4  VEHICLE TYPE CODE 5\n",
              "0  2020-08-29   15:40:00  ...                 NaN                  NaN\n",
              "1  2020-08-29   21:00:00  ...                 NaN                  NaN\n",
              "2  2020-08-29   18:20:00  ...                 NaN                  NaN\n",
              "3  2020-08-29   00:00:00  ...          Motorcycle                  NaN\n",
              "4  2020-08-29   17:10:00  ...                 NaN                  NaN\n",
              "\n",
              "[5 rows x 29 columns]"
            ]
          },
          "metadata": {
            "tags": []
          },
          "execution_count": 42
        }
      ]
    },
    {
      "cell_type": "code",
      "metadata": {
        "colab": {
          "base_uri": "https://localhost:8080/",
          "height": 204
        },
        "id": "9ncRoUM8984Y",
        "outputId": "a5c968c9-a27a-4fd6-8c45-1f7c77c72ad1"
      },
      "source": [
        "#getting rid of unecessary columns\n",
        "df_crashes = df_crashes.loc[:, ['CRASH DATE']]\n",
        "df_crashes.head()"
      ],
      "execution_count": null,
      "outputs": [
        {
          "output_type": "execute_result",
          "data": {
            "text/html": [
              "<div>\n",
              "<style scoped>\n",
              "    .dataframe tbody tr th:only-of-type {\n",
              "        vertical-align: middle;\n",
              "    }\n",
              "\n",
              "    .dataframe tbody tr th {\n",
              "        vertical-align: top;\n",
              "    }\n",
              "\n",
              "    .dataframe thead th {\n",
              "        text-align: right;\n",
              "    }\n",
              "</style>\n",
              "<table border=\"1\" class=\"dataframe\">\n",
              "  <thead>\n",
              "    <tr style=\"text-align: right;\">\n",
              "      <th></th>\n",
              "      <th>CRASH DATE</th>\n",
              "    </tr>\n",
              "  </thead>\n",
              "  <tbody>\n",
              "    <tr>\n",
              "      <th>0</th>\n",
              "      <td>2020-08-29</td>\n",
              "    </tr>\n",
              "    <tr>\n",
              "      <th>1</th>\n",
              "      <td>2020-08-29</td>\n",
              "    </tr>\n",
              "    <tr>\n",
              "      <th>2</th>\n",
              "      <td>2020-08-29</td>\n",
              "    </tr>\n",
              "    <tr>\n",
              "      <th>3</th>\n",
              "      <td>2020-08-29</td>\n",
              "    </tr>\n",
              "    <tr>\n",
              "      <th>4</th>\n",
              "      <td>2020-08-29</td>\n",
              "    </tr>\n",
              "  </tbody>\n",
              "</table>\n",
              "</div>"
            ],
            "text/plain": [
              "   CRASH DATE\n",
              "0  2020-08-29\n",
              "1  2020-08-29\n",
              "2  2020-08-29\n",
              "3  2020-08-29\n",
              "4  2020-08-29"
            ]
          },
          "metadata": {
            "tags": []
          },
          "execution_count": 43
        }
      ]
    },
    {
      "cell_type": "code",
      "metadata": {
        "id": "nxziW-C1BhXa"
      },
      "source": [
        "df_crashes.rename(columns={'CRASH DATE':'date'}, inplace=True) "
      ],
      "execution_count": null,
      "outputs": []
    },
    {
      "cell_type": "code",
      "metadata": {
        "colab": {
          "base_uri": "https://localhost:8080/",
          "height": 204
        },
        "id": "U272Q_zSCImH",
        "outputId": "8e36d9a0-854e-46a7-c751-51036d64fb52"
      },
      "source": [
        "df_crashes['crash_count'] = 1\n",
        "df_crashes.head()"
      ],
      "execution_count": null,
      "outputs": [
        {
          "output_type": "execute_result",
          "data": {
            "text/html": [
              "<div>\n",
              "<style scoped>\n",
              "    .dataframe tbody tr th:only-of-type {\n",
              "        vertical-align: middle;\n",
              "    }\n",
              "\n",
              "    .dataframe tbody tr th {\n",
              "        vertical-align: top;\n",
              "    }\n",
              "\n",
              "    .dataframe thead th {\n",
              "        text-align: right;\n",
              "    }\n",
              "</style>\n",
              "<table border=\"1\" class=\"dataframe\">\n",
              "  <thead>\n",
              "    <tr style=\"text-align: right;\">\n",
              "      <th></th>\n",
              "      <th>date</th>\n",
              "      <th>crash_count</th>\n",
              "    </tr>\n",
              "  </thead>\n",
              "  <tbody>\n",
              "    <tr>\n",
              "      <th>0</th>\n",
              "      <td>2020-08-29</td>\n",
              "      <td>1</td>\n",
              "    </tr>\n",
              "    <tr>\n",
              "      <th>1</th>\n",
              "      <td>2020-08-29</td>\n",
              "      <td>1</td>\n",
              "    </tr>\n",
              "    <tr>\n",
              "      <th>2</th>\n",
              "      <td>2020-08-29</td>\n",
              "      <td>1</td>\n",
              "    </tr>\n",
              "    <tr>\n",
              "      <th>3</th>\n",
              "      <td>2020-08-29</td>\n",
              "      <td>1</td>\n",
              "    </tr>\n",
              "    <tr>\n",
              "      <th>4</th>\n",
              "      <td>2020-08-29</td>\n",
              "      <td>1</td>\n",
              "    </tr>\n",
              "  </tbody>\n",
              "</table>\n",
              "</div>"
            ],
            "text/plain": [
              "         date  crash_count\n",
              "0  2020-08-29            1\n",
              "1  2020-08-29            1\n",
              "2  2020-08-29            1\n",
              "3  2020-08-29            1\n",
              "4  2020-08-29            1"
            ]
          },
          "metadata": {
            "tags": []
          },
          "execution_count": 45
        }
      ]
    },
    {
      "cell_type": "code",
      "metadata": {
        "id": "fxL2NiPKDcjH"
      },
      "source": [
        "#getting crash counts\n",
        "aggregate_func = {'crash_count': 'sum'}\n",
        "df_crashes = df_crashes.groupby('date', as_index=False).aggregate(aggregate_func)"
      ],
      "execution_count": null,
      "outputs": []
    },
    {
      "cell_type": "markdown",
      "metadata": {
        "id": "GdWdwCxWFmT3"
      },
      "source": [
        "### Cleaned up NYC crashes dataframe\n"
      ]
    },
    {
      "cell_type": "code",
      "metadata": {
        "colab": {
          "base_uri": "https://localhost:8080/",
          "height": 419
        },
        "id": "qyI_q9RREmda",
        "outputId": "4f595764-b216-491d-c931-1545c300215b"
      },
      "source": [
        "df_crashes['date'] = df_crashes['date'].apply(standardize_crashes_date)\n",
        "df_crashes"
      ],
      "execution_count": null,
      "outputs": [
        {
          "output_type": "execute_result",
          "data": {
            "text/html": [
              "<div>\n",
              "<style scoped>\n",
              "    .dataframe tbody tr th:only-of-type {\n",
              "        vertical-align: middle;\n",
              "    }\n",
              "\n",
              "    .dataframe tbody tr th {\n",
              "        vertical-align: top;\n",
              "    }\n",
              "\n",
              "    .dataframe thead th {\n",
              "        text-align: right;\n",
              "    }\n",
              "</style>\n",
              "<table border=\"1\" class=\"dataframe\">\n",
              "  <thead>\n",
              "    <tr style=\"text-align: right;\">\n",
              "      <th></th>\n",
              "      <th>date</th>\n",
              "      <th>crash_count</th>\n",
              "    </tr>\n",
              "  </thead>\n",
              "  <tbody>\n",
              "    <tr>\n",
              "      <th>0</th>\n",
              "      <td>01-01-2020</td>\n",
              "      <td>336</td>\n",
              "    </tr>\n",
              "    <tr>\n",
              "      <th>1</th>\n",
              "      <td>01-02-2020</td>\n",
              "      <td>409</td>\n",
              "    </tr>\n",
              "    <tr>\n",
              "      <th>2</th>\n",
              "      <td>01-03-2020</td>\n",
              "      <td>452</td>\n",
              "    </tr>\n",
              "    <tr>\n",
              "      <th>3</th>\n",
              "      <td>01-04-2020</td>\n",
              "      <td>347</td>\n",
              "    </tr>\n",
              "    <tr>\n",
              "      <th>4</th>\n",
              "      <td>01-05-2020</td>\n",
              "      <td>286</td>\n",
              "    </tr>\n",
              "    <tr>\n",
              "      <th>...</th>\n",
              "      <td>...</td>\n",
              "      <td>...</td>\n",
              "    </tr>\n",
              "    <tr>\n",
              "      <th>237</th>\n",
              "      <td>08-25-2020</td>\n",
              "      <td>264</td>\n",
              "    </tr>\n",
              "    <tr>\n",
              "      <th>238</th>\n",
              "      <td>08-26-2020</td>\n",
              "      <td>280</td>\n",
              "    </tr>\n",
              "    <tr>\n",
              "      <th>239</th>\n",
              "      <td>08-27-2020</td>\n",
              "      <td>281</td>\n",
              "    </tr>\n",
              "    <tr>\n",
              "      <th>240</th>\n",
              "      <td>08-28-2020</td>\n",
              "      <td>238</td>\n",
              "    </tr>\n",
              "    <tr>\n",
              "      <th>241</th>\n",
              "      <td>08-29-2020</td>\n",
              "      <td>206</td>\n",
              "    </tr>\n",
              "  </tbody>\n",
              "</table>\n",
              "<p>242 rows × 2 columns</p>\n",
              "</div>"
            ],
            "text/plain": [
              "           date  crash_count\n",
              "0    01-01-2020          336\n",
              "1    01-02-2020          409\n",
              "2    01-03-2020          452\n",
              "3    01-04-2020          347\n",
              "4    01-05-2020          286\n",
              "..          ...          ...\n",
              "237  08-25-2020          264\n",
              "238  08-26-2020          280\n",
              "239  08-27-2020          281\n",
              "240  08-28-2020          238\n",
              "241  08-29-2020          206\n",
              "\n",
              "[242 rows x 2 columns]"
            ]
          },
          "metadata": {
            "tags": []
          },
          "execution_count": 47
        }
      ]
    },
    {
      "cell_type": "markdown",
      "metadata": {
        "id": "kCoerwt3Fvzy"
      },
      "source": [
        "### Cleaned up NYC covid cases dataframe"
      ]
    },
    {
      "cell_type": "code",
      "metadata": {
        "colab": {
          "base_uri": "https://localhost:8080/",
          "height": 419
        },
        "id": "VZxN2mtzFhBY",
        "outputId": "5536728c-afaf-4389-93b6-5da2aa13411f"
      },
      "source": [
        "df_cases"
      ],
      "execution_count": null,
      "outputs": [
        {
          "output_type": "execute_result",
          "data": {
            "text/html": [
              "<div>\n",
              "<style scoped>\n",
              "    .dataframe tbody tr th:only-of-type {\n",
              "        vertical-align: middle;\n",
              "    }\n",
              "\n",
              "    .dataframe tbody tr th {\n",
              "        vertical-align: top;\n",
              "    }\n",
              "\n",
              "    .dataframe thead th {\n",
              "        text-align: right;\n",
              "    }\n",
              "</style>\n",
              "<table border=\"1\" class=\"dataframe\">\n",
              "  <thead>\n",
              "    <tr style=\"text-align: right;\">\n",
              "      <th></th>\n",
              "      <th>date</th>\n",
              "      <th>case_count</th>\n",
              "    </tr>\n",
              "  </thead>\n",
              "  <tbody>\n",
              "    <tr>\n",
              "      <th>0</th>\n",
              "      <td>02-29-2020</td>\n",
              "      <td>1</td>\n",
              "    </tr>\n",
              "    <tr>\n",
              "      <th>1</th>\n",
              "      <td>03-01-2020</td>\n",
              "      <td>0</td>\n",
              "    </tr>\n",
              "    <tr>\n",
              "      <th>2</th>\n",
              "      <td>03-02-2020</td>\n",
              "      <td>0</td>\n",
              "    </tr>\n",
              "    <tr>\n",
              "      <th>3</th>\n",
              "      <td>03-03-2020</td>\n",
              "      <td>1</td>\n",
              "    </tr>\n",
              "    <tr>\n",
              "      <th>4</th>\n",
              "      <td>03-04-2020</td>\n",
              "      <td>5</td>\n",
              "    </tr>\n",
              "    <tr>\n",
              "      <th>...</th>\n",
              "      <td>...</td>\n",
              "      <td>...</td>\n",
              "    </tr>\n",
              "    <tr>\n",
              "      <th>282</th>\n",
              "      <td>12-07-2020</td>\n",
              "      <td>3101</td>\n",
              "    </tr>\n",
              "    <tr>\n",
              "      <th>283</th>\n",
              "      <td>12-08-2020</td>\n",
              "      <td>2778</td>\n",
              "    </tr>\n",
              "    <tr>\n",
              "      <th>284</th>\n",
              "      <td>12-09-2020</td>\n",
              "      <td>2450</td>\n",
              "    </tr>\n",
              "    <tr>\n",
              "      <th>285</th>\n",
              "      <td>12-10-2020</td>\n",
              "      <td>1788</td>\n",
              "    </tr>\n",
              "    <tr>\n",
              "      <th>286</th>\n",
              "      <td>12-11-2020</td>\n",
              "      <td>1167</td>\n",
              "    </tr>\n",
              "  </tbody>\n",
              "</table>\n",
              "<p>287 rows × 2 columns</p>\n",
              "</div>"
            ],
            "text/plain": [
              "           date  case_count\n",
              "0    02-29-2020           1\n",
              "1    03-01-2020           0\n",
              "2    03-02-2020           0\n",
              "3    03-03-2020           1\n",
              "4    03-04-2020           5\n",
              "..          ...         ...\n",
              "282  12-07-2020        3101\n",
              "283  12-08-2020        2778\n",
              "284  12-09-2020        2450\n",
              "285  12-10-2020        1788\n",
              "286  12-11-2020        1167\n",
              "\n",
              "[287 rows x 2 columns]"
            ]
          },
          "metadata": {
            "tags": []
          },
          "execution_count": 48
        }
      ]
    },
    {
      "cell_type": "markdown",
      "metadata": {
        "id": "p0b5hHdIqAVp"
      },
      "source": [
        "Merging datasets\n"
      ]
    },
    {
      "cell_type": "code",
      "metadata": {
        "colab": {
          "base_uri": "https://localhost:8080/",
          "height": 204
        },
        "id": "YQUas7kVGfo6",
        "outputId": "0750b12e-1cd3-4e99-e2ab-ae132dd89f88"
      },
      "source": [
        "#inner merge on the two dataframs\n",
        "df = pd.merge(df_cases, df_crashes, on='date')\n",
        "df_old = df\n",
        "df.head()"
      ],
      "execution_count": null,
      "outputs": [
        {
          "output_type": "execute_result",
          "data": {
            "text/html": [
              "<div>\n",
              "<style scoped>\n",
              "    .dataframe tbody tr th:only-of-type {\n",
              "        vertical-align: middle;\n",
              "    }\n",
              "\n",
              "    .dataframe tbody tr th {\n",
              "        vertical-align: top;\n",
              "    }\n",
              "\n",
              "    .dataframe thead th {\n",
              "        text-align: right;\n",
              "    }\n",
              "</style>\n",
              "<table border=\"1\" class=\"dataframe\">\n",
              "  <thead>\n",
              "    <tr style=\"text-align: right;\">\n",
              "      <th></th>\n",
              "      <th>date</th>\n",
              "      <th>case_count</th>\n",
              "      <th>crash_count</th>\n",
              "    </tr>\n",
              "  </thead>\n",
              "  <tbody>\n",
              "    <tr>\n",
              "      <th>0</th>\n",
              "      <td>02-29-2020</td>\n",
              "      <td>1</td>\n",
              "      <td>456</td>\n",
              "    </tr>\n",
              "    <tr>\n",
              "      <th>1</th>\n",
              "      <td>03-01-2020</td>\n",
              "      <td>0</td>\n",
              "      <td>423</td>\n",
              "    </tr>\n",
              "    <tr>\n",
              "      <th>2</th>\n",
              "      <td>03-02-2020</td>\n",
              "      <td>0</td>\n",
              "      <td>562</td>\n",
              "    </tr>\n",
              "    <tr>\n",
              "      <th>3</th>\n",
              "      <td>03-03-2020</td>\n",
              "      <td>1</td>\n",
              "      <td>550</td>\n",
              "    </tr>\n",
              "    <tr>\n",
              "      <th>4</th>\n",
              "      <td>03-04-2020</td>\n",
              "      <td>5</td>\n",
              "      <td>541</td>\n",
              "    </tr>\n",
              "  </tbody>\n",
              "</table>\n",
              "</div>"
            ],
            "text/plain": [
              "         date  case_count  crash_count\n",
              "0  02-29-2020           1          456\n",
              "1  03-01-2020           0          423\n",
              "2  03-02-2020           0          562\n",
              "3  03-03-2020           1          550\n",
              "4  03-04-2020           5          541"
            ]
          },
          "metadata": {
            "tags": []
          },
          "execution_count": 49
        }
      ]
    },
    {
      "cell_type": "code",
      "metadata": {
        "colab": {
          "base_uri": "https://localhost:8080/",
          "height": 462
        },
        "id": "6kyLNfRC8t4D",
        "outputId": "443f96a2-afa7-4ee2-e190-9ac38cf95255"
      },
      "source": [
        "sns.scatterplot(x='case_count', y='crash_count', data=df)\n",
        "plt.xlabel('Covid Cases')\n",
        "plt.ylabel('Crashes')"
      ],
      "execution_count": null,
      "outputs": [
        {
          "output_type": "execute_result",
          "data": {
            "text/plain": [
              "Text(0, 0.5, 'Crashes')"
            ]
          },
          "metadata": {
            "tags": []
          },
          "execution_count": 50
        },
        {
          "output_type": "display_data",
          "data": {
            "image/png": "[encoded data removed]",
            "text/plain": [
              "<Figure size 1224x504 with 1 Axes>"
            ]
          },
          "metadata": {
            "tags": [],
            "needs_background": "light"
          }
        }
      ]
    },
    {
      "cell_type": "code",
      "metadata": {
        "colab": {
          "base_uri": "https://localhost:8080/",
          "height": 204
        },
        "id": "Dby7DKK2L7pV",
        "outputId": "6a2cb998-b1a8-4904-c4e5-cdb102d592e4"
      },
      "source": [
        "#getting rid of outliers (like 0 and 1 cases in beginning of march)\n",
        "df = df[df['case_count'] > 10] \n",
        "df.head()"
      ],
      "execution_count": null,
      "outputs": [
        {
          "output_type": "execute_result",
          "data": {
            "text/html": [
              "<div>\n",
              "<style scoped>\n",
              "    .dataframe tbody tr th:only-of-type {\n",
              "        vertical-align: middle;\n",
              "    }\n",
              "\n",
              "    .dataframe tbody tr th {\n",
              "        vertical-align: top;\n",
              "    }\n",
              "\n",
              "    .dataframe thead th {\n",
              "        text-align: right;\n",
              "    }\n",
              "</style>\n",
              "<table border=\"1\" class=\"dataframe\">\n",
              "  <thead>\n",
              "    <tr style=\"text-align: right;\">\n",
              "      <th></th>\n",
              "      <th>date</th>\n",
              "      <th>case_count</th>\n",
              "      <th>crash_count</th>\n",
              "    </tr>\n",
              "  </thead>\n",
              "  <tbody>\n",
              "    <tr>\n",
              "      <th>8</th>\n",
              "      <td>03-08-2020</td>\n",
              "      <td>21</td>\n",
              "      <td>408</td>\n",
              "    </tr>\n",
              "    <tr>\n",
              "      <th>9</th>\n",
              "      <td>03-09-2020</td>\n",
              "      <td>57</td>\n",
              "      <td>545</td>\n",
              "    </tr>\n",
              "    <tr>\n",
              "      <th>10</th>\n",
              "      <td>03-10-2020</td>\n",
              "      <td>69</td>\n",
              "      <td>449</td>\n",
              "    </tr>\n",
              "    <tr>\n",
              "      <th>11</th>\n",
              "      <td>03-11-2020</td>\n",
              "      <td>155</td>\n",
              "      <td>473</td>\n",
              "    </tr>\n",
              "    <tr>\n",
              "      <th>12</th>\n",
              "      <td>03-12-2020</td>\n",
              "      <td>355</td>\n",
              "      <td>455</td>\n",
              "    </tr>\n",
              "  </tbody>\n",
              "</table>\n",
              "</div>"
            ],
            "text/plain": [
              "          date  case_count  crash_count\n",
              "8   03-08-2020          21          408\n",
              "9   03-09-2020          57          545\n",
              "10  03-10-2020          69          449\n",
              "11  03-11-2020         155          473\n",
              "12  03-12-2020         355          455"
            ]
          },
          "metadata": {
            "tags": []
          },
          "execution_count": 51
        }
      ]
    },
    {
      "cell_type": "markdown",
      "metadata": {
        "id": "iWRnXn7ZqF5r"
      },
      "source": [
        "# Assumptions of Linear Regression\n",
        "1. Linear relationship\n",
        "2. Multivariate normality\n",
        "3. No multicollinearity\n",
        "4. No auto-correlation\n",
        "5. Homoscedasticity\n",
        "\n"
      ]
    },
    {
      "cell_type": "code",
      "metadata": {
        "colab": {
          "base_uri": "https://localhost:8080/",
          "height": 459
        },
        "id": "7onKF8zbHocz",
        "outputId": "050991b9-01b2-4539-9fcd-fb985275badb"
      },
      "source": [
        "sns.scatterplot(x='case_count', y='crash_count', data=df)\n",
        "plt.xlabel('Covid Cases')\n",
        "plt.ylabel('Crashes')"
      ],
      "execution_count": null,
      "outputs": [
        {
          "output_type": "execute_result",
          "data": {
            "text/plain": [
              "Text(0, 0.5, 'Crashes')"
            ]
          },
          "metadata": {
            "tags": []
          },
          "execution_count": 52
        },
        {
          "output_type": "display_data",
          "data": {
            "image/png": "[encoded data removed]",
            "text/plain": [
              "<Figure size 1224x504 with 1 Axes>"
            ]
          },
          "metadata": {
            "tags": [],
            "needs_background": "light"
          }
        }
      ]
    },
    {
      "cell_type": "markdown",
      "metadata": {
        "id": "HCEf2Yf1v2a4"
      },
      "source": [
        "1. **Linear Relationship**: observing the scatterplot above, we can see that there does indeed exist some sort of linear relationship.\n"
      ]
    },
    {
      "cell_type": "code",
      "metadata": {
        "colab": {
          "base_uri": "https://localhost:8080/",
          "height": 547
        },
        "id": "Qz__mujSJALw",
        "outputId": "8d572adb-ff99-44a1-9067-2261280e0cd2"
      },
      "source": [
        "plt.subplot(1, 2, 1)\n",
        "sns.distplot(df['case_count'])\n",
        "plt.xlabel('Daily Cases Count')\n",
        "\n",
        "plt.subplot(1, 2, 2)\n",
        "sns.distplot(df['crash_count'])\n",
        "plt.xlabel('Daily Crashes Count')"
      ],
      "execution_count": null,
      "outputs": [
        {
          "output_type": "stream",
          "text": [
            "/usr/local/lib/python3.6/dist-packages/seaborn/distributions.py:2551: FutureWarning: `distplot` is a deprecated function and will be removed in a future version. Please adapt your code to use either `displot` (a figure-level function with similar flexibility) or `histplot` (an axes-level function for histograms).\n",
            "  warnings.warn(msg, FutureWarning)\n",
            "/usr/local/lib/python3.6/dist-packages/seaborn/distributions.py:2551: FutureWarning: `distplot` is a deprecated function and will be removed in a future version. Please adapt your code to use either `displot` (a figure-level function with similar flexibility) or `histplot` (an axes-level function for histograms).\n",
            "  warnings.warn(msg, FutureWarning)\n"
          ],
          "name": "stderr"
        },
        {
          "output_type": "execute_result",
          "data": {
            "text/plain": [
              "Text(0.5, 0, 'Daily Crashes Count')"
            ]
          },
          "metadata": {
            "tags": []
          },
          "execution_count": 53
        },
        {
          "output_type": "display_data",
          "data": {
            "image/png": "[encoded data removed]",
            "text/plain": [
              "<Figure size 1224x504 with 2 Axes>"
            ]
          },
          "metadata": {
            "tags": [],
            "needs_background": "light"
          }
        }
      ]
    },
    {
      "cell_type": "markdown",
      "metadata": {
        "id": "Br12uuWrxMeM"
      },
      "source": [
        "Both datasets seemed to be skewed to the right, we can apply logarithmic transformation to the data to help us with out analysis"
      ]
    },
    {
      "cell_type": "code",
      "metadata": {
        "colab": {
          "base_uri": "https://localhost:8080/",
          "height": 408
        },
        "id": "Ug4YTlAzOf4t",
        "outputId": "b3a30495-dedf-483d-c8b1-88ab55d1a528"
      },
      "source": [
        "df['case_count10'] = np.log10(df['case_count'])\n",
        "df['crash_count10'] = np.log10(df['crash_count'])\n",
        "df.head()"
      ],
      "execution_count": null,
      "outputs": [
        {
          "output_type": "stream",
          "text": [
            "/usr/local/lib/python3.6/dist-packages/ipykernel_launcher.py:1: SettingWithCopyWarning: \n",
            "A value is trying to be set on a copy of a slice from a DataFrame.\n",
            "Try using .loc[row_indexer,col_indexer] = value instead\n",
            "\n",
            "See the caveats in the documentation: https://pandas.pydata.org/pandas-docs/stable/user_guide/indexing.html#returning-a-view-versus-a-copy\n",
            "  \"\"\"Entry point for launching an IPython kernel.\n",
            "/usr/local/lib/python3.6/dist-packages/ipykernel_launcher.py:2: SettingWithCopyWarning: \n",
            "A value is trying to be set on a copy of a slice from a DataFrame.\n",
            "Try using .loc[row_indexer,col_indexer] = value instead\n",
            "\n",
            "See the caveats in the documentation: https://pandas.pydata.org/pandas-docs/stable/user_guide/indexing.html#returning-a-view-versus-a-copy\n",
            "  \n"
          ],
          "name": "stderr"
        },
        {
          "output_type": "execute_result",
          "data": {
            "text/html": [
              "<div>\n",
              "<style scoped>\n",
              "    .dataframe tbody tr th:only-of-type {\n",
              "        vertical-align: middle;\n",
              "    }\n",
              "\n",
              "    .dataframe tbody tr th {\n",
              "        vertical-align: top;\n",
              "    }\n",
              "\n",
              "    .dataframe thead th {\n",
              "        text-align: right;\n",
              "    }\n",
              "</style>\n",
              "<table border=\"1\" class=\"dataframe\">\n",
              "  <thead>\n",
              "    <tr style=\"text-align: right;\">\n",
              "      <th></th>\n",
              "      <th>date</th>\n",
              "      <th>case_count</th>\n",
              "      <th>crash_count</th>\n",
              "      <th>case_count10</th>\n",
              "      <th>crash_count10</th>\n",
              "    </tr>\n",
              "  </thead>\n",
              "  <tbody>\n",
              "    <tr>\n",
              "      <th>8</th>\n",
              "      <td>03-08-2020</td>\n",
              "      <td>21</td>\n",
              "      <td>408</td>\n",
              "      <td>1.322219</td>\n",
              "      <td>2.610660</td>\n",
              "    </tr>\n",
              "    <tr>\n",
              "      <th>9</th>\n",
              "      <td>03-09-2020</td>\n",
              "      <td>57</td>\n",
              "      <td>545</td>\n",
              "      <td>1.755875</td>\n",
              "      <td>2.736397</td>\n",
              "    </tr>\n",
              "    <tr>\n",
              "      <th>10</th>\n",
              "      <td>03-10-2020</td>\n",
              "      <td>69</td>\n",
              "      <td>449</td>\n",
              "      <td>1.838849</td>\n",
              "      <td>2.652246</td>\n",
              "    </tr>\n",
              "    <tr>\n",
              "      <th>11</th>\n",
              "      <td>03-11-2020</td>\n",
              "      <td>155</td>\n",
              "      <td>473</td>\n",
              "      <td>2.190332</td>\n",
              "      <td>2.674861</td>\n",
              "    </tr>\n",
              "    <tr>\n",
              "      <th>12</th>\n",
              "      <td>03-12-2020</td>\n",
              "      <td>355</td>\n",
              "      <td>455</td>\n",
              "      <td>2.550228</td>\n",
              "      <td>2.658011</td>\n",
              "    </tr>\n",
              "  </tbody>\n",
              "</table>\n",
              "</div>"
            ],
            "text/plain": [
              "          date  case_count  crash_count  case_count10  crash_count10\n",
              "8   03-08-2020          21          408      1.322219       2.610660\n",
              "9   03-09-2020          57          545      1.755875       2.736397\n",
              "10  03-10-2020          69          449      1.838849       2.652246\n",
              "11  03-11-2020         155          473      2.190332       2.674861\n",
              "12  03-12-2020         355          455      2.550228       2.658011"
            ]
          },
          "metadata": {
            "tags": []
          },
          "execution_count": 54
        }
      ]
    },
    {
      "cell_type": "code",
      "metadata": {
        "colab": {
          "base_uri": "https://localhost:8080/",
          "height": 547
        },
        "id": "0DE4jGVsyHXJ",
        "outputId": "d8140da2-adb7-4319-f072-18008c53fb8d"
      },
      "source": [
        "\n",
        "plt.subplot(1, 2, 1)\n",
        "sns.distplot(df['case_count10'])\n",
        "plt.xlabel('log10(Daily Cases Count)')\n",
        "\n",
        "plt.subplot(1, 2, 2)\n",
        "sns.distplot(df['crash_count10'])\n",
        "plt.xlabel('log10(Daily Crashes Count)')"
      ],
      "execution_count": null,
      "outputs": [
        {
          "output_type": "stream",
          "text": [
            "/usr/local/lib/python3.6/dist-packages/seaborn/distributions.py:2551: FutureWarning: `distplot` is a deprecated function and will be removed in a future version. Please adapt your code to use either `displot` (a figure-level function with similar flexibility) or `histplot` (an axes-level function for histograms).\n",
            "  warnings.warn(msg, FutureWarning)\n",
            "/usr/local/lib/python3.6/dist-packages/seaborn/distributions.py:2551: FutureWarning: `distplot` is a deprecated function and will be removed in a future version. Please adapt your code to use either `displot` (a figure-level function with similar flexibility) or `histplot` (an axes-level function for histograms).\n",
            "  warnings.warn(msg, FutureWarning)\n"
          ],
          "name": "stderr"
        },
        {
          "output_type": "execute_result",
          "data": {
            "text/plain": [
              "Text(0.5, 0, 'log10(Daily Crashes Count')"
            ]
          },
          "metadata": {
            "tags": []
          },
          "execution_count": 55
        },
        {
          "output_type": "display_data",
          "data": {
            "image/png": "[encoded data removed]",
            "text/plain": [
              "<Figure size 1224x504 with 2 Axes>"
            ]
          },
          "metadata": {
            "tags": [],
            "needs_background": "light"
          }
        }
      ]
    },
    {
      "cell_type": "code",
      "metadata": {
        "colab": {
          "base_uri": "https://localhost:8080/",
          "height": 475
        },
        "id": "aounuWHD0-QA",
        "outputId": "df4cb4b1-443f-408a-c777-a07b0ea8c80a"
      },
      "source": [
        "sns.scatterplot(x='case_count10', y='crash_count10', data=df)\n",
        "plt.xlabel('log10(Covid Cases)')\n",
        "plt.ylabel('log10(Crashes)')\n",
        "plt.title(\"Log Transformed Data\")"
      ],
      "execution_count": null,
      "outputs": [
        {
          "output_type": "execute_result",
          "data": {
            "text/plain": [
              "Text(0.5, 1.0, 'Log Transformed Data')"
            ]
          },
          "metadata": {
            "tags": []
          },
          "execution_count": 56
        },
        {
          "output_type": "display_data",
          "data": {
            "image/png": "[encoded data removed]",
            "text/plain": [
              "<Figure size 1224x504 with 1 Axes>"
            ]
          },
          "metadata": {
            "tags": [],
            "needs_background": "light"
          }
        }
      ]
    },
    {
      "cell_type": "markdown",
      "metadata": {
        "id": "J3b17NLC2D9_"
      },
      "source": [
        "2. **Multivariate normality**: Data is transfored to ensure that we can assume that the variables were using for linear regression have a normal distribution."
      ]
    },
    {
      "cell_type": "code",
      "metadata": {
        "colab": {
          "base_uri": "https://localhost:8080/",
          "height": 173
        },
        "id": "T9lNj59Cn73o",
        "outputId": "f7d57412-e340-4338-da06-e0e71ad6bdc0"
      },
      "source": [
        "df.corr()"
      ],
      "execution_count": null,
      "outputs": [
        {
          "output_type": "execute_result",
          "data": {
            "text/html": [
              "<div>\n",
              "<style scoped>\n",
              "    .dataframe tbody tr th:only-of-type {\n",
              "        vertical-align: middle;\n",
              "    }\n",
              "\n",
              "    .dataframe tbody tr th {\n",
              "        vertical-align: top;\n",
              "    }\n",
              "\n",
              "    .dataframe thead th {\n",
              "        text-align: right;\n",
              "    }\n",
              "</style>\n",
              "<table border=\"1\" class=\"dataframe\">\n",
              "  <thead>\n",
              "    <tr style=\"text-align: right;\">\n",
              "      <th></th>\n",
              "      <th>case_count</th>\n",
              "      <th>crash_count</th>\n",
              "      <th>case_count10</th>\n",
              "      <th>crash_count10</th>\n",
              "    </tr>\n",
              "  </thead>\n",
              "  <tbody>\n",
              "    <tr>\n",
              "      <th>case_count</th>\n",
              "      <td>1.000000</td>\n",
              "      <td>-0.582232</td>\n",
              "      <td>0.903319</td>\n",
              "      <td>-0.651308</td>\n",
              "    </tr>\n",
              "    <tr>\n",
              "      <th>crash_count</th>\n",
              "      <td>-0.582232</td>\n",
              "      <td>1.000000</td>\n",
              "      <td>-0.675847</td>\n",
              "      <td>0.973422</td>\n",
              "    </tr>\n",
              "    <tr>\n",
              "      <th>case_count10</th>\n",
              "      <td>0.903319</td>\n",
              "      <td>-0.675847</td>\n",
              "      <td>1.000000</td>\n",
              "      <td>-0.724459</td>\n",
              "    </tr>\n",
              "    <tr>\n",
              "      <th>crash_count10</th>\n",
              "      <td>-0.651308</td>\n",
              "      <td>0.973422</td>\n",
              "      <td>-0.724459</td>\n",
              "      <td>1.000000</td>\n",
              "    </tr>\n",
              "  </tbody>\n",
              "</table>\n",
              "</div>"
            ],
            "text/plain": [
              "               case_count  crash_count  case_count10  crash_count10\n",
              "case_count       1.000000    -0.582232      0.903319      -0.651308\n",
              "crash_count     -0.582232     1.000000     -0.675847       0.973422\n",
              "case_count10     0.903319    -0.675847      1.000000      -0.724459\n",
              "crash_count10   -0.651308     0.973422     -0.724459       1.000000"
            ]
          },
          "metadata": {
            "tags": []
          },
          "execution_count": 57
        }
      ]
    },
    {
      "cell_type": "markdown",
      "metadata": {
        "id": "XhpRhATn2-rI"
      },
      "source": [
        "3. **No multicollinearity**: Correlation matrix calculated above, we can observe that the number of COVID-19 cases is not highly correlated with the number of car crashes. The same can also be applied to the log transformed variables.\n",
        "4. **No auto-correlation**: Variables are not auto correlated\n",
        "5. **Homoscedasticity**: Variance in the log transformed scatterplot appears to be about the same across the data points.\n",
        "\n",
        "All assumptions needed for linear regression are proven. We can now proceed with carrying out regression"
      ]
    },
    {
      "cell_type": "markdown",
      "metadata": {
        "id": "DD2LT2L_-CEd"
      },
      "source": [
        "# Linear Regression with Log Transformed Data\n",
        "\n"
      ]
    },
    {
      "cell_type": "code",
      "metadata": {
        "colab": {
          "base_uri": "https://localhost:8080/"
        },
        "id": "SVdI2r158aH8",
        "outputId": "b18d9635-11fd-438b-a871-70ae2d09322d"
      },
      "source": [
        "# carry out regression using log-transformed predictor\n",
        "outcome, predictors = patsy.dmatrices('crash_count10 ~ case_count10', df)\n",
        "mod = sm.OLS(outcome, predictors)\n",
        "res = mod.fit()\n",
        "print(res.summary())"
      ],
      "execution_count": null,
      "outputs": [
        {
          "output_type": "stream",
          "text": [
            "                            OLS Regression Results                            \n",
            "==============================================================================\n",
            "Dep. Variable:          crash_count10   R-squared:                       0.525\n",
            "Model:                            OLS   Adj. R-squared:                  0.522\n",
            "Method:                 Least Squares   F-statistic:                     191.1\n",
            "Date:                Tue, 15 Dec 2020   Prob (F-statistic):           9.26e-30\n",
            "Time:                        10:37:38   Log-Likelihood:                 145.34\n",
            "No. Observations:                 175   AIC:                            -286.7\n",
            "Df Residuals:                     173   BIC:                            -280.3\n",
            "Df Model:                           1                                         \n",
            "Covariance Type:            nonrobust                                         \n",
            "================================================================================\n",
            "                   coef    std err          t      P>|t|      [0.025      0.975]\n",
            "--------------------------------------------------------------------------------\n",
            "Intercept        2.9722      0.045     66.650      0.000       2.884       3.060\n",
            "case_count10    -0.2154      0.016    -13.823      0.000      -0.246      -0.185\n",
            "==============================================================================\n",
            "Omnibus:                       19.918   Durbin-Watson:                   0.723\n",
            "Prob(Omnibus):                  0.000   Jarque-Bera (JB):               28.245\n",
            "Skew:                           0.668   Prob(JB):                     7.35e-07\n",
            "Kurtosis:                       4.446   Cond. No.                         17.8\n",
            "==============================================================================\n",
            "\n",
            "Warnings:\n",
            "[1] Standard Errors assume that the covariance matrix of the errors is correctly specified.\n"
          ],
          "name": "stdout"
        }
      ]
    },
    {
      "cell_type": "markdown",
      "metadata": {
        "id": "Is-aHXocEpyd"
      },
      "source": [
        "## Result Interpretation\n",
        "\n",
        "\n"
      ]
    },
    {
      "cell_type": "markdown",
      "metadata": {
        "id": "DzRJNHo_IKiZ"
      },
      "source": [
        "We can see that the *effect size*($\\beta$) estimate for case_count10 is `-0.2154`. But since we used log transformation on both of our variables. The equation can be written as:\n",
        "\n",
        "<center>$\\log_{10} (DailyCrashes) = 2.9722 - 0.2154*\\log_{10}(DailyCovidCases)$</center>\n",
        "\n",
        "<br /> \n",
        "We can intrepret this as for every one percent increase in `DailyCovidCases`, there would be a 0.2154 percent **decrease** in `DailyCrashes`\n",
        "\n",
        "<br /> \n",
        "Similarly another way we can intepret the change on the effect of `DailyCovidCases`, is to select two value for it, $C_2$ and  $C_1$. And getting rid fo the intercept would give us this equation.\n",
        "\n",
        "<center> $\\log_{10}(DailyCrashes(C_2)) - log_{10}(DailyCrashes(C_1)) = \\beta * [log_{10}(C_2) - log_{10}(C_1)]$ </center>\n",
        "\n",
        "\n",
        "Simplifying this we would end up with:\n",
        "\n",
        "<center> $\\displaystyle\\frac{DailyCrashes(C_2)}{DailyCrashes(C_1)} = (\\frac{C_2}{C_1})^\\beta$</center>\n",
        "\n",
        "<br /> \n",
        "\n",
        "From the equation above, we can see that the ratio of $C_2$/$C_1$ is consistent with the ratio of $DailyCrashes(C_2)/DailyCrashes(C_1)$.\n",
        "\n",
        "Therefore, for a $10\\%$ increase in COVID-19 cases we would expect the ratio for traffic collisions to be \n",
        "\n",
        "<center>$(1.10)^\\beta = (1.10)^{-0.2154} \\approx 0.9796795$ </center>\n",
        "\n",
        "In other words, a $10\\%$ increase in cases would result in a $2\\%$ decrease in traffic collisions in NYC."
      ]
    },
    {
      "cell_type": "markdown",
      "metadata": {
        "id": "jVRpdav9EvS9"
      },
      "source": [
        "# References used^^^^^^^^^^^^^\n",
        "\n",
        "https://stats.stackexchange.com/questions/18480/interpretation-of-log-transformed-predictor-and-or-response \n",
        "\n",
        "https://stats.idre.ucla.edu/other/mult-pkg/faq/general/faqhow-do-i-interpret-a-regression-model-when-some-variables-are-log-transformed/\n"
      ]
    },
    {
      "cell_type": "markdown",
      "metadata": {
        "id": "XrN5MAjYPN4u"
      },
      "source": [
        "## Visualizing the Model"
      ]
    },
    {
      "cell_type": "code",
      "metadata": {
        "colab": {
          "base_uri": "https://localhost:8080/",
          "height": 459
        },
        "id": "A_caZowdPTHR",
        "outputId": "3992ebe4-50a1-46d3-fc47-84711b5e5f03"
      },
      "source": [
        "# Plot the orginal data (as before)\n",
        "#sns.scatterplot(x='case_count10', y='crash_count10', data=df)\n",
        "plt.scatter(df['case_count10'], df['crash_count10'], alpha=0.5, label='Data');\n",
        "\n",
        "# Generate and plot the model fit line\n",
        "xs = np.arange(df['case_count10'].min(), df['case_count10'].max()+.70)\n",
        "ys = 2.9722 - 0.2154 * xs\n",
        "plt.plot(xs, ys, '--k', linewidth=4, label='Model')\n",
        "\n",
        "plt.xlabel('Daily Covid Cases')\n",
        "plt.ylabel('Daily Crashes')\n",
        "plt.legend()"
      ],
      "execution_count": null,
      "outputs": [
        {
          "output_type": "execute_result",
          "data": {
            "text/plain": [
              "<matplotlib.legend.Legend at 0x7f56c5ba71d0>"
            ]
          },
          "metadata": {
            "tags": []
          },
          "execution_count": 72
        },
        {
          "output_type": "display_data",
          "data": {
            "image/png": "[encoded data removed]",
            "text/plain": [
              "<Figure size 1224x504 with 1 Axes>"
            ]
          },
          "metadata": {
            "tags": [],
            "needs_background": "light"
          }
        }
      ]
    },
    {
      "cell_type": "code",
      "metadata": {
        "id": "fnkhtTnzPStf"
      },
      "source": [
        ""
      ],
      "execution_count": null,
      "outputs": []
    }
  ]
}